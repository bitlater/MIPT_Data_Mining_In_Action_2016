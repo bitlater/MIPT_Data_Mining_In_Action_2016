{
 "cells": [
  {
   "cell_type": "markdown",
   "metadata": {},
   "source": [
    "<h1 align=\"center\">Logistic Regression</h1> "
   ]
  },
  {
   "cell_type": "markdown",
   "metadata": {},
   "source": [
    "В области машинного обучения одним из самых популярных методов бинарной классификации (предсказываем один из двух классов для каждого объекта) является логистическая регрессия, лог регрессия настраивается с помощью метода максимального правдоподобия, который приводит к следующей задаче оптимизации:\n",
    "\n",
    "$$ L(w, X, y) = \\sum_{i = 0}^{N} log (1 + exp(-y_ix_i^Tw)) + \\frac{1}{2} ||w||^2-> \\min_w$$\n",
    "$$X \\in R^{N \\times M}, x \\in R^{M}, w \\in R^{M}, y \\in \\{-1, 1\\}^N$$\n",
    "\n",
    "когда мы решили задачу оптимизации (нашли $w$), мы принимаем решение о том, к какому классу относится объект по правилу $y(x) = sign(x^Tw)$. В данной части вам необходимо применить методы линейной алгебры для решения этой задачи. "
   ]
  },
  {
   "cell_type": "markdown",
   "metadata": {},
   "source": [
    "<h1 align=\"center\">Check Questions</h1> "
   ]
  },
  {
   "cell_type": "markdown",
   "metadata": {},
   "source": [
    "Ответе на вопросы своими словами, если не выходит, то вернитесь к лекции дополнительным материалам:\n",
    "\n",
    "**Вопрос 1**: Чем лог-регрессия отличается от svm?\n",
    "\n",
    "Функцией потерь.\n",
    "\n",
    "**Вопрос 2**: Почему считается что регуляризатор мешает переобучаться? Что такое переобучение?\n",
    "\n",
    "Он ставит ограничение на w. \n",
    "\n",
    "**Вопрос 3**: Почему лог-регрессия это классификатор?\n",
    "\n",
    "Т.к. используя лог-регрессию, на выходе мы получаем вероятности пренадлежности объекта к одному из классов."
   ]
  },
  {
   "cell_type": "markdown",
   "metadata": {},
   "source": [
    "### Лог-регрессия своими руками"
   ]
  },
  {
   "cell_type": "code",
   "execution_count": 286,
   "metadata": {
    "collapsed": false
   },
   "outputs": [],
   "source": [
    "import numpy as np\n",
    "from scipy import special\n",
    "import matplotlib.pyplot as plt\n",
    "%matplotlib inline"
   ]
  },
  {
   "cell_type": "code",
   "execution_count": 287,
   "metadata": {
    "collapsed": true
   },
   "outputs": [],
   "source": [
    "# Для тестирования правильности вычисления сгенерируем аргументы, небольшого размера\n",
    "w, X, y = np.random.random(4), np.random.random((5, 4)), 2*(np.random.randint(0, 2, 5)-0.5)"
   ]
  },
  {
   "cell_type": "markdown",
   "metadata": {},
   "source": [
    "### Шаг 1\n",
    "\n",
    "Запрограммируйте вычисление функции L, используйте только матричные операции (внутри не должно быть циклов -- циклы спрятанны в матричные умножения).\n",
    "\n",
    "**Замечание**: Нигде в промежуточных вычислениях не стоит вычислять значение $exp(−y_ix^Tw)$, иначе может произойти переполнение. Вместо этого следует напрямую вычислять необходимые величины с помощью специализированных для этого функций: `np.logaddexp` для `ln(1 + exp(·))` и `sp.special.expit` для `1/(1 + exp(·))`."
   ]
  },
  {
   "cell_type": "code",
   "execution_count": 288,
   "metadata": {
    "collapsed": false
   },
   "outputs": [],
   "source": [
    "def logistic(w, X, y):\n",
    "    \"\"\"\n",
    "        logistic(w, X, y) вычисляет функцию качества лог регрессии L(w, X, y)\n",
    "        \n",
    "        w: np.array размера (M,)\n",
    "        X: np.array размера (N, M)\n",
    "        y: np.array размера (N,)\n",
    "        \n",
    "        funcw: np.float \n",
    "    \"\"\"\n",
    "    funcw = 0 # Вычислите функцию L\n",
    "    \n",
    "    #L = np.sum(np.logaddexp(0, -y*X.T*w)) + 0.5 * np.sum(w**2)\n",
    "    \n",
    "    xw = np.dot(X, w[:,None])\n",
    "    funcw = np.sum(np.logaddexp(0, -np.dot(y, xw))) + 0.5 * np.sum(w**2)\n",
    "    \n",
    "    return funcw"
   ]
  },
  {
   "cell_type": "code",
   "execution_count": 289,
   "metadata": {
    "collapsed": false
   },
   "outputs": [
    {
     "data": {
      "text/plain": [
       "True"
      ]
     },
     "execution_count": 289,
     "metadata": {},
     "output_type": "execute_result"
    }
   ],
   "source": [
    "isinstance(logistic(w, X, y), float) # Результат число, этож функция потерь."
   ]
  },
  {
   "cell_type": "markdown",
   "metadata": {},
   "source": [
    "### Шаг 2\n",
    "\n",
    "Найдите градиент функции $\\nabla_w L(w, X, y)$, запишите в терминах матричных операций, эффективно запрограммируйте вычисленный градиент."
   ]
  },
  {
   "cell_type": "code",
   "execution_count": 290,
   "metadata": {
    "collapsed": false
   },
   "outputs": [],
   "source": [
    "def logistic_grad(w, X, y):\n",
    "    \"\"\"\n",
    "        logistic_grad(w, X, y) вычисляет градиент функции качества лог регрессии dL(w, X, y)/dw\n",
    "        \n",
    "        w: np.array размера (M,)\n",
    "        X: np.array размера (N, M)\n",
    "        y: np.array размера (N,)\n",
    "        \n",
    "        gradw: np.array размера (M,)\n",
    "    \"\"\"\n",
    "    gradw = np.zeros_like(w) # Вычислите градиент функции dL/dw\n",
    "    \n",
    "    sigma = special.expit(np.dot(y, np.dot(X, w[:,None]))) - 1\n",
    "    gradw = np.dot(X.T, y)*sigma + w\n",
    "    \n",
    "    #print sigma, gradw\n",
    "    return gradw"
   ]
  },
  {
   "cell_type": "code",
   "execution_count": 291,
   "metadata": {
    "collapsed": false
   },
   "outputs": [],
   "source": [
    "assert(logistic_grad(w, X, y).shape == w.shape) # Результат вектор, этож градиент."
   ]
  },
  {
   "cell_type": "markdown",
   "metadata": {},
   "source": [
    "### Шаг 3"
   ]
  },
  {
   "cell_type": "markdown",
   "metadata": {},
   "source": [
    "Очень часто при подсчёте градиента допускаются ошибки, проверьте правильность реализации подсчёта градиента с помощью функции scipy.optimize.check_grad, ошибка должна быть ~ 1e-8 или меньше."
   ]
  },
  {
   "cell_type": "code",
   "execution_count": 292,
   "metadata": {
    "collapsed": false
   },
   "outputs": [
    {
     "name": "stdout",
     "output_type": "stream",
     "text": [
      "error = 1.6200283793e-08\n"
     ]
    }
   ],
   "source": [
    "from scipy.optimize import check_grad\n",
    "\n",
    "func = lambda w: logistic(w, X, y)\n",
    "grad = lambda w: logistic_grad(w, X, y)\n",
    "\n",
    "print('error = %s' % check_grad(func, grad, w))"
   ]
  },
  {
   "cell_type": "markdown",
   "metadata": {},
   "source": [
    "### Шаг 4"
   ]
  },
  {
   "cell_type": "markdown",
   "metadata": {},
   "source": [
    "А теперь найдем $w$ используя метод оптимизации optimize.fmin_l_bfgs_b применим к реальным данным."
   ]
  },
  {
   "cell_type": "code",
   "execution_count": 293,
   "metadata": {
    "collapsed": false
   },
   "outputs": [],
   "source": [
    "from sklearn.datasets import make_classification\n",
    "from sklearn.cross_validation import train_test_split\n",
    "from sklearn.metrics import accuracy_score as acc\n",
    "\n",
    "X, y = make_classification(n_features=20, n_informative=3, n_classes=2, )\n",
    "y = 2*(y - 0.5)\n",
    "X_train, X_test, y_train, y_test = train_test_split(X, y)"
   ]
  },
  {
   "cell_type": "code",
   "execution_count": 294,
   "metadata": {
    "collapsed": false
   },
   "outputs": [
    {
     "name": "stdout",
     "output_type": "stream",
     "text": [
      "[  4.41027391e-03   9.93289067e-03  -2.58060725e-03   1.41579449e-02\n",
      "  -3.40900701e-02  -1.47960819e-03   5.06786765e-02   7.07316990e-03\n",
      "   2.35632351e-03  -2.37438761e-02  -2.02143282e-03   1.63099323e-03\n",
      "   2.18918175e-02   4.74309000e-04   6.10732001e-03   3.01564526e-02\n",
      "   3.32080186e-02  -2.21258989e-03  -7.84921085e-03   6.37085168e-05]\n"
     ]
    }
   ],
   "source": [
    "w = np.zeros_like(X[0]) # Начальное значение параметров w\n",
    "func = lambda w: logistic(w, X_train, y_train)\n",
    "grad = lambda w: logistic_grad(w, X_train, y_train)\n",
    "\n",
    "def f(func, grad):\n",
    "    return func, grad\n",
    "\n",
    "import scipy as sp\n",
    "w = sp.optimize.fmin_l_bfgs_b(func, x0=w, approx_grad=grad)[0]\n",
    "print w"
   ]
  },
  {
   "cell_type": "code",
   "execution_count": 295,
   "metadata": {
    "collapsed": false
   },
   "outputs": [
    {
     "name": "stdout",
     "output_type": "stream",
     "text": [
      "('train acc = ', 0.68000000000000005, 'test acc = 0.56')\n"
     ]
    }
   ],
   "source": [
    "print('train acc = ', acc(np.sign(X_train.dot(w)), y_train), 'test acc = %s' % acc(np.sign(X_test.dot(w)), y_test))"
   ]
  },
  {
   "cell_type": "markdown",
   "metadata": {},
   "source": [
    "### Шаг 5, Давайте визуализируем наш метод, а то хочется глазами посмотреть"
   ]
  },
  {
   "cell_type": "code",
   "execution_count": 296,
   "metadata": {
    "collapsed": true
   },
   "outputs": [],
   "source": [
    "from scipy import optimize\n",
    "\n",
    "def expand(X):\n",
    "    X_ = np.zeros((X.shape[0], 6))\n",
    "    X_[:,0:2] = X\n",
    "    X_[:,2:4] = X**2\n",
    "    X_[:,4] = X[:,0] * X[:,1]\n",
    "    X_[:,5] = 1;\n",
    "    return X_\n",
    "\n",
    "def visualize(X, y, w, loss, n_iter, h=0.01):\n",
    "    x_min, x_max = X[:, 0].min() - 1, X[:, 0].max() + 1\n",
    "    y_min, y_max = X[:, 1].min() - 1, X[:, 1].max() + 1\n",
    "    xx, yy = np.meshgrid(np.arange(x_min, x_max, h), np.arange(y_min, y_max, h))\n",
    "    \n",
    "    plt.clf()\n",
    "    Z = classify(expand(np.c_[xx.ravel(), yy.ravel()]), w)\n",
    "    Z = Z.reshape(xx.shape)\n",
    "    plt.subplot(1,2,1)\n",
    "    plt.contourf(xx, yy, Z, cmap='rainbow', alpha=0.8)\n",
    "    plt.scatter(X[:, 0], X[:, 1], c=y, cmap='rainbow')\n",
    "    plt.xlim(xx.min(), xx.max())\n",
    "    plt.ylim(yy.min(), yy.max())\n",
    "    plt.subplot(1,2,2)\n",
    "    plt.plot(loss)\n",
    "    ymin, ymax = plt.ylim()\n",
    "    plt.ylim(0, ymax)\n",
    "    display.clear_output(wait=True)\n",
    "    display.display(plt.gcf())\n",
    "    \n",
    "def viz_opt(func, gradf, X, y, n_iter=10, lr=1e-3):\n",
    "    a = None\n",
    "    loss1 = np.zeros(n_iter)\n",
    "    plt.figure(figsize=(12,5))\n",
    "    ind = np.arange(X.shape[0])\n",
    "    \n",
    "    w = np.zeros(X.shape[1])\n",
    "    \n",
    "    for i in range(n_iter):        \n",
    "        loss1[i] += func(w)\n",
    "        visualize(X, y, w, loss1, n_iter)\n",
    "        \n",
    "        fvalx, gradx = func(w), grad(w)\n",
    "        w = optimize.fmin_l_bfgs_b(func, w, approx_grad=grad)[0]\n",
    "        \n",
    "    visualize(X, y, w, loss1, n_iter)\n",
    "    \n",
    "    q = plt.clf()\n",
    "    plt.show()"
   ]
  },
  {
   "cell_type": "code",
   "execution_count": 297,
   "metadata": {
    "collapsed": false
   },
   "outputs": [],
   "source": [
    "from sklearn.datasets import make_moons, make_circles, make_classification\n",
    "\n",
    "X, y = make_classification(n_features=2, n_redundant=0, n_informative=2)\n",
    "X += np.random.random(X.shape)\n",
    "\n",
    "datasets = [make_moons(noise=0.1), make_circles(noise=0.1, factor=0.5), (X, y)]"
   ]
  },
  {
   "cell_type": "code",
   "execution_count": 298,
   "metadata": {
    "collapsed": false
   },
   "outputs": [
    {
     "data": {
      "image/png": "[encoded data removed]",
      "text/plain": [
       "<matplotlib.figure.Figure at 0x112599f90>"
      ]
     },
     "metadata": {},
     "output_type": "display_data"
    },
    {
     "data": {
      "text/plain": [
       "<matplotlib.figure.Figure at 0x112599f90>"
      ]
     },
     "metadata": {},
     "output_type": "display_data"
    }
   ],
   "source": [
    "from IPython import display\n",
    "\n",
    "def classify(X, w):\n",
    "    return np.sign(1.0 / (1.0 + np.exp(-X.dot(w))) - 0.5)\n",
    "\n",
    "func = lambda w: logistic(w, X, y)\n",
    "grad = lambda w: logistic_grad(w, X, y)\n",
    "\n",
    "for X, y in datasets:\n",
    "    X, y = expand(X), -2*(y-0.5)\n",
    "    a = viz_opt(func, grad, X, y) "
   ]
  },
  {
   "cell_type": "markdown",
   "metadata": {
    "collapsed": true
   },
   "source": [
    "### Шаг 6 Сдать ДЗ"
   ]
  },
  {
   "cell_type": "code",
   "execution_count": 299,
   "metadata": {
    "collapsed": true
   },
   "outputs": [],
   "source": [
    "X = np.array([\n",
    "    [ 0.11276959,  0.44971499,  0.9923867 ,  0.89212961],\n",
    "    [ 0.82695301,  0.30505746,  0.40539034,  0.68335903],\n",
    "    [ 0.98938714,  0.34498564,  0.36259562,  0.46714136],\n",
    "    [ 0.46335495,  0.62208345,  0.95386954,  0.41550278],\n",
    "    [ 0.91471692,  0.69649708,  0.82290076,  0.86441013]])\n",
    "\n",
    "w = np.array([ 0.45920206,  0.24257981,  0.96715112,  0.21759684])\n",
    "y = np.array([-1., -1., -1., -1.,  1.])"
   ]
  },
  {
   "cell_type": "code",
   "execution_count": 300,
   "metadata": {
    "collapsed": false
   },
   "outputs": [
    {
     "name": "stdout",
     "output_type": "stream",
     "text": [
      "значение функции потерь 3.77\n",
      "значение суммы градиентов 7.62\n"
     ]
    }
   ],
   "source": [
    "# Заполните форму https://goo.gl/forms/nRSQuIk8olbmVRIi1 \n",
    "\n",
    "print('значение функции потерь %.2f'   % logistic(w, X, y))\n",
    "print('значение суммы градиентов %.2f' % logistic_grad(w, X, y).sum())"
   ]
  }
 ],
 "metadata": {
  "anaconda-cloud": {},
  "kernelspec": {
   "display_name": "Python 2",
   "language": "python",
   "name": "python2"
  },
  "language_info": {
   "codemirror_mode": {
    "name": "ipython",
    "version": 2
   },
   "file_extension": ".py",
   "mimetype": "text/x-python",
   "name": "python",
   "nbconvert_exporter": "python",
   "pygments_lexer": "ipython2",
   "version": "2.7.12"
  }
 },
 "nbformat": 4,
 "nbformat_minor": 0
}
